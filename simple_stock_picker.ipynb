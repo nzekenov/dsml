{
 "cells": [
  {
   "cell_type": "code",
   "execution_count": null,
   "metadata": {},
   "outputs": [],
   "source": [
    "#!pip3.10 install requests\n",
    "#!pip3.10 install bs4\n",
    "#!pip3.10 install pandas\n",
    "#!pip3.10 install numpy"
   ]
  },
  {
   "cell_type": "code",
   "execution_count": null,
   "metadata": {},
   "outputs": [],
   "source": [
    "import numpy as np\n",
    "import pandas as pd\n",
    "import requests\n",
    "from bs4 import BeautifulSoup"
   ]
  },
  {
   "cell_type": "code",
   "execution_count": null,
   "metadata": {},
   "outputs": [],
   "source": [
    "def getForecast(ticker):\n",
    "    html_data = requests.get(\"https://money.cnn.com/quote/forecast/forecast.html?symb=\" + ticker, headers={\"User-Agent\":\"Mozilla/5.0\"})\n",
    "    html = BeautifulSoup(html_data.text, \"html.parser\")\n",
    "    \n",
    "    try:\n",
    "        subdiv = html.find('div', attrs = {\"class\":\"wsod_twoCol\"})\n",
    "        forecast_text = subdiv.find('p').text\n",
    "        median_target = float(forecast_text.split(\"median target of\")[1].split(',')[0])\n",
    "        high_estimate = float(forecast_text.split(\"high estimate of\")[1].split('and')[0])\n",
    "        low_estimate = float(forecast_text.split(\"low estimate of\")[1].split('.')[0])\n",
    "        last_price = float(forecast_text.split(\"last price of\")[1].split('.')[0])\n",
    "        recc = html.find('strong', attrs = {\"wsod_rating\"})\n",
    "        \n",
    "        return f\"{ticker}, {median_target}, {high_estimate}, {low_estimate}, {last_price}, {((median_target-last_price)/last_price) * 100}, {((low_estimate-last_price)/last_price) * 100}, {recc.get_text()}\"\n",
    "        \n",
    "    except:\n",
    "        return \"Not found\""
   ]
  },
  {
   "cell_type": "code",
   "execution_count": null,
   "metadata": {},
   "outputs": [],
   "source": [
    "df = pd.read_csv(\"Stocks in the Russell 1000 Index.csv\")\n",
    "df[\"Symbol\"] = df[\"Symbol\"].str.lower()\n"
   ]
  },
  {
   "cell_type": "code",
   "execution_count": null,
   "metadata": {},
   "outputs": [],
   "source": [
    "# Create empty lists to store forecast data\n",
    "median_targets = []\n",
    "high_estimates = []\n",
    "low_estimates = []\n",
    "last_prices = []\n",
    "percentage_changes_low = []  # Percentage change between low estimate and last price\n",
    "percentage_changes_median = []  # Percentage change between median target and last price\n",
    "recommendations = []\n",
    "\n",
    "for symbol in df[\"Symbol\"]:\n",
    "    data = getForecast(symbol)  # Call the getForecast function to retrieve data\n",
    "    \n",
    "    if data != \"Not found\":\n",
    "        data_split = data.split(\", \")\n",
    "        median_targets.append(float(data_split[1]))\n",
    "        high_estimates.append(float(data_split[2]))\n",
    "        low_estimates.append(float(data_split[3]))\n",
    "        last_prices.append(float(data_split[4]))\n",
    "        percentage_changes_median.append(f\"{float(data_split[5])}%\")\n",
    "        percentage_changes_low.append(f\"{float(data_split[6])}%\")\n",
    "        recommendations.append(data_split[7])\n",
    "\n",
    "# Add new columns to the DataFrame\n",
    "df[\"Median Target\"] = median_targets\n",
    "df[\"High Estimate\"] = high_estimates\n",
    "df[\"Low Estimate\"] = low_estimates\n",
    "df[\"Last Price\"] = last_prices\n",
    "df[\"Percentage Change (Median)\"] = percentage_changes_median\n",
    "df[\"Percentage Change (Low)\"] = percentage_changes_low\n",
    "df[\"Recommendation\"] = recommendations"
   ]
  },
  {
   "cell_type": "code",
   "execution_count": null,
   "metadata": {},
   "outputs": [],
   "source": []
  }
 ],
 "metadata": {
  "kernelspec": {
   "display_name": "Python 3.9.12 ('base')",
   "language": "python",
   "name": "python3"
  },
  "language_info": {
   "codemirror_mode": {
    "name": "ipython",
    "version": 3
   },
   "file_extension": ".py",
   "mimetype": "text/x-python",
   "name": "python",
   "nbconvert_exporter": "python",
   "pygments_lexer": "ipython3",
   "version": "3.10.11"
  },
  "orig_nbformat": 4,
  "vscode": {
   "interpreter": {
    "hash": "2e71a16e9bda403068c0862eca960bf453cf7a689ecaf5749f4fb82dd1bdbd13"
   }
  }
 },
 "nbformat": 4,
 "nbformat_minor": 2
}
